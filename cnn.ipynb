{
 "cells": [
  {
   "cell_type": "code",
   "execution_count": 1,
   "id": "aaf6b41e-7b55-4b86-b036-b92546460ef7",
   "metadata": {},
   "outputs": [
    {
     "name": "stdout",
     "output_type": "stream",
     "text": [
      "Writing app.py\n"
     ]
    }
   ],
   "source": [
    "%%writefile app.py\n",
    "import streamlit as st\n",
    "import tensorflow as tf\n",
    "import pickle\n",
    "from tensorflow.keras.preprocessing.sequence import pad_sequences\n",
    "\n",
    "# Load model & tokenizer\n",
    "model = tf.keras.models.load_model(\"sentiment_rnn_model.h5\")\n",
    "with open(\"tokenizer.pkl\", \"rb\") as f:\n",
    "    tokenizer = pickle.load(f)\n",
    "\n",
    "max_len = 250\n",
    "\n",
    "st.set_page_config(page_title=\"Movie Sentiment Analyzer\", page_icon=\"🎬\")\n",
    "\n",
    "st.title(\"🎬 Movie Review Sentiment Analysis\")\n",
    "st.markdown(\"Enter a movie review below and find out if it's **Positive** 🌟 or **Negative** 💔\")\n",
    "\n",
    "review = st.text_area(\"✍️ Enter your review:\")\n",
    "\n",
    "if st.button(\"Predict Sentiment\"):\n",
    "    if review.strip():\n",
    "        seq = tokenizer.texts_to_sequences([review])\n",
    "        pad = pad_sequences(seq, maxlen=max_len, padding='post', truncating='post')\n",
    "        pred = model.predict(pad)\n",
    "        sentiment = \"🌟 Positive Review!\" if pred[0][0] > 0.5 else \"💔 Negative Review!\"\n",
    "        st.success(sentiment)\n",
    "    else:\n",
    "        st.warning(\"Please enter a review before predicting.\")\n"
   ]
  },
  {
   "cell_type": "code",
   "execution_count": null,
   "id": "486ca39d-840e-40d3-8c53-24ff76b71013",
   "metadata": {},
   "outputs": [],
   "source": [
    "!streamlit run app.py\n"
   ]
  },
  {
   "cell_type": "code",
   "execution_count": null,
   "id": "ed522725-6678-454b-a2ef-15d5a379dbad",
   "metadata": {},
   "outputs": [],
   "source": []
  }
 ],
 "metadata": {
  "kernelspec": {
   "display_name": "AI Environment",
   "language": "python",
   "name": "ai_env"
  },
  "language_info": {
   "codemirror_mode": {
    "name": "ipython",
    "version": 3
   },
   "file_extension": ".py",
   "mimetype": "text/x-python",
   "name": "python",
   "nbconvert_exporter": "python",
   "pygments_lexer": "ipython3",
   "version": "3.10.18"
  }
 },
 "nbformat": 4,
 "nbformat_minor": 5
}
